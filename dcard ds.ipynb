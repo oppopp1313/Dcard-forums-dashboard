{
 "metadata": {
  "language_info": {
   "codemirror_mode": {
    "name": "ipython",
    "version": 3
   },
   "file_extension": ".py",
   "mimetype": "text/x-python",
   "name": "python",
   "nbconvert_exporter": "python",
   "pygments_lexer": "ipython3",
   "version": "3.7.4-final"
  },
  "orig_nbformat": 2,
  "kernelspec": {
   "name": "python3",
   "display_name": "Python 3",
   "language": "python"
  }
 },
 "nbformat": 4,
 "nbformat_minor": 2,
 "cells": [
  {
   "cell_type": "code",
   "execution_count": 1,
   "metadata": {},
   "outputs": [],
   "source": [
    "import gspread\n",
    "from dcard import Dcard\n",
    "import pandas as pd\n",
    "import numpy as np\n",
    "import json\n",
    "from pandas.io.json import json_normalize\n",
    "from oauth2client.service_account import ServiceAccountCredentials\n",
    "\n",
    "#Google sheet api & key\n",
    "auth_json_path = '/Users/oppop/Desktop/Google python.json'\n",
    "gss_scopes = ['https://spreadsheets.google.com/feeds']\n",
    "\n",
    "credentials = ServiceAccountCredentials.from_json_keyfile_name(auth_json_path,gss_scopes)\n",
    "gss_client = gspread.authorize(credentials)\n",
    "\n",
    "spreadsheet_key = '1aD9iVu1EZubM-qrXraILpLwcdSgNI7F0OS0oPv7fS64' "
   ]
  },
  {
   "cell_type": "code",
   "execution_count": 2,
   "metadata": {},
   "outputs": [],
   "source": [
    "# Create Google Sheet to import raw data\n",
    "sheet_r = gss_client.open_by_key(spreadsheet_key).worksheet('relationship')\n",
    "sheet_fu = gss_client.open_by_key(spreadsheet_key).worksheet('funny')\n",
    "sheet_d = gss_client.open_by_key(spreadsheet_key).worksheet('dressup')\n",
    "sheet_fo = gss_client.open_by_key(spreadsheet_key).worksheet('food')\n",
    "sheet_m = gss_client.open_by_key(spreadsheet_key).worksheet('makeup')"
   ]
  },
  {
   "cell_type": "code",
   "execution_count": 3,
   "metadata": {},
   "outputs": [
    {
     "output_type": "execute_result",
     "data": {
      "text/plain": [
       "{'spreadsheetId': '1aD9iVu1EZubM-qrXraILpLwcdSgNI7F0OS0oPv7fS64',\n",
       " 'updatedRange': 'relationship!A1:S6001',\n",
       " 'updatedRows': 6001,\n",
       " 'updatedColumns': 19,\n",
       " 'updatedCells': 114019}"
      ]
     },
     "metadata": {},
     "execution_count": 3
    }
   ],
   "source": [
    "# Article in Dcard <relationship>\n",
    "dcard = Dcard()\n",
    "ariticle_metas = dcard.forums('relationship').get_metas(num=6000, sort='new')\n",
    "dcarddf = pd.DataFrame.from_records(ariticle_metas)\n",
    "dcarddf = dcarddf[[\"id\",\"title\",\"excerpt\",\"topics\",\"createdAt\",\"commentCount\",\"likeCount\",\"withNickname\",\"gender\",\"school\",\"department\",\"replyTitle\",\"layout\",\"withImages\",\"withVideos\"]]\n",
    "dcarddf2 = pd.DataFrame(dcarddf['topics'].values.tolist(), columns=['topics1','topics2','topics3','topics4','topics5'])\n",
    "dcarddf2['id'] = dcarddf['id']\n",
    "dcarddf3 = pd.merge(dcarddf, dcarddf2)\n",
    "dcarddf3 = dcarddf3.fillna('')\n",
    "dcarddf3 = dcarddf3.drop(\"topics\",axis = 1)\n",
    "\n",
    "sheet_r.clear()\n",
    "sheet_r.update([dcarddf3.columns.values.tolist()] + dcarddf3.values.tolist())"
   ]
  },
  {
   "cell_type": "code",
   "execution_count": 4,
   "metadata": {},
   "outputs": [
    {
     "output_type": "execute_result",
     "data": {
      "text/plain": [
       "{'spreadsheetId': '1aD9iVu1EZubM-qrXraILpLwcdSgNI7F0OS0oPv7fS64',\n",
       " 'updatedRange': 'funny!A1:S2001',\n",
       " 'updatedRows': 2001,\n",
       " 'updatedColumns': 19,\n",
       " 'updatedCells': 38019}"
      ]
     },
     "metadata": {},
     "execution_count": 4
    }
   ],
   "source": [
    "# Article in Dcard <funny>\n",
    "dcard = Dcard()\n",
    "ariticle_metas = dcard.forums('funny').get_metas(num=2000, sort='new')\n",
    "dcarddf = pd.DataFrame.from_records(ariticle_metas)\n",
    "dcarddf = dcarddf[[\"id\",\"title\",\"excerpt\",\"topics\",\"createdAt\",\"commentCount\",\"likeCount\",\"withNickname\",\"gender\",\"school\",\"department\",\"replyTitle\",\"layout\",\"withImages\",\"withVideos\"]]\n",
    "dcarddf2 = pd.DataFrame(dcarddf['topics'].values.tolist(), columns=['topics1','topics2','topics3','topics4','topics5'])\n",
    "dcarddf2['id'] = dcarddf['id']\n",
    "dcarddf3 = pd.merge(dcarddf, dcarddf2)\n",
    "dcarddf3 = dcarddf3.fillna('')\n",
    "dcarddf3 = dcarddf3.drop(\"topics\",axis = 1)\n",
    "\n",
    "sheet_fu.clear()\n",
    "sheet_fu.update([dcarddf3.columns.values.tolist()] + dcarddf3.values.tolist())"
   ]
  },
  {
   "cell_type": "code",
   "execution_count": 5,
   "metadata": {},
   "outputs": [
    {
     "output_type": "execute_result",
     "data": {
      "text/plain": [
       "{'spreadsheetId': '1aD9iVu1EZubM-qrXraILpLwcdSgNI7F0OS0oPv7fS64',\n",
       " 'updatedRange': 'dressup!A1:S2001',\n",
       " 'updatedRows': 2001,\n",
       " 'updatedColumns': 19,\n",
       " 'updatedCells': 38019}"
      ]
     },
     "metadata": {},
     "execution_count": 5
    }
   ],
   "source": [
    "# Article in Dcard <dressup>\n",
    "dcard = Dcard()\n",
    "ariticle_metas = dcard.forums('dressup').get_metas(num=2000, sort='new')\n",
    "dcarddf = pd.DataFrame.from_records(ariticle_metas)\n",
    "dcarddf = dcarddf[[\"id\",\"title\",\"excerpt\",\"topics\",\"createdAt\",\"commentCount\",\"likeCount\",\"withNickname\",\"gender\",\"school\",\"department\",\"replyTitle\",\"layout\",\"withImages\",\"withVideos\"]]\n",
    "dcarddf2 = pd.DataFrame(dcarddf['topics'].values.tolist(), columns=['topics1','topics2','topics3','topics4','topics5'])\n",
    "dcarddf2['id'] = dcarddf['id']\n",
    "dcarddf3 = pd.merge(dcarddf, dcarddf2)\n",
    "dcarddf3 = dcarddf3.fillna('')\n",
    "dcarddf3 = dcarddf3.drop(\"topics\",axis = 1)\n",
    "\n",
    "sheet_d.clear()\n",
    "sheet_d.update([dcarddf3.columns.values.tolist()] + dcarddf3.values.tolist())"
   ]
  },
  {
   "cell_type": "code",
   "execution_count": 6,
   "metadata": {},
   "outputs": [
    {
     "output_type": "execute_result",
     "data": {
      "text/plain": [
       "{'spreadsheetId': '1aD9iVu1EZubM-qrXraILpLwcdSgNI7F0OS0oPv7fS64',\n",
       " 'updatedRange': 'food!A1:S2001',\n",
       " 'updatedRows': 2001,\n",
       " 'updatedColumns': 19,\n",
       " 'updatedCells': 38019}"
      ]
     },
     "metadata": {},
     "execution_count": 6
    }
   ],
   "source": [
    "# Article in Dcard <food>\n",
    "dcard = Dcard()\n",
    "ariticle_metas = dcard.forums('food').get_metas(num=2000, sort='new')\n",
    "dcarddf = pd.DataFrame.from_records(ariticle_metas)\n",
    "dcarddf = dcarddf[[\"id\",\"title\",\"excerpt\",\"topics\",\"createdAt\",\"commentCount\",\"likeCount\",\"withNickname\",\"gender\",\"school\",\"department\",\"replyTitle\",\"layout\",\"withImages\",\"withVideos\"]]\n",
    "dcarddf2 = pd.DataFrame(dcarddf['topics'].values.tolist(), columns=['topics1','topics2','topics3','topics4','topics5'])\n",
    "dcarddf2['id'] = dcarddf['id']\n",
    "dcarddf3 = pd.merge(dcarddf, dcarddf2)\n",
    "dcarddf3 = dcarddf3.fillna('')\n",
    "dcarddf3 = dcarddf3.drop(\"topics\",axis = 1)\n",
    "\n",
    "sheet_fo.clear()\n",
    "sheet_fo.update([dcarddf3.columns.values.tolist()] + dcarddf3.values.tolist())"
   ]
  },
  {
   "cell_type": "code",
   "execution_count": 8,
   "metadata": {},
   "outputs": [
    {
     "output_type": "execute_result",
     "data": {
      "text/plain": [
       "{'spreadsheetId': '1aD9iVu1EZubM-qrXraILpLwcdSgNI7F0OS0oPv7fS64',\n",
       " 'updatedRange': 'makeup!A1:S2001',\n",
       " 'updatedRows': 2001,\n",
       " 'updatedColumns': 19,\n",
       " 'updatedCells': 38019}"
      ]
     },
     "metadata": {},
     "execution_count": 8
    }
   ],
   "source": [
    "# Article in Dcard <makeup>\n",
    "dcard = Dcard()\n",
    "ariticle_metas = dcard.forums('makeup').get_metas(num=2000, sort='new')\n",
    "dcarddf = pd.DataFrame.from_records(ariticle_metas)\n",
    "dcarddf = dcarddf[[\"id\",\"title\",\"excerpt\",\"topics\",\"createdAt\",\"commentCount\",\"likeCount\",\"withNickname\",\"gender\",\"school\",\"department\",\"replyTitle\",\"layout\",\"withImages\",\"withVideos\"]]\n",
    "dcarddf2 = pd.DataFrame(dcarddf['topics'].values.tolist(), columns=['topics1','topics2','topics3','topics4','topics5'])\n",
    "dcarddf2['id'] = dcarddf['id']\n",
    "dcarddf3 = pd.merge(dcarddf, dcarddf2)\n",
    "dcarddf3 = dcarddf3.fillna('')\n",
    "dcarddf3 = dcarddf3.drop(\"topics\",axis = 1)\n",
    "\n",
    "sheet_m.clear()\n",
    "sheet_m.update([dcarddf3.columns.values.tolist()] + dcarddf3.values.tolist())"
   ]
  }
 ]
}